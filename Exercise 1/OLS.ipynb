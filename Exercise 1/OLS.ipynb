{
 "cells": [
  {
   "cell_type": "code",
   "execution_count": 31,
   "id": "ac2cffb0",
   "metadata": {},
   "outputs": [],
   "source": [
    "import numpy as np"
   ]
  },
  {
   "cell_type": "code",
   "execution_count": 32,
   "id": "242a645e",
   "metadata": {},
   "outputs": [],
   "source": [
    "x = np.array([1, 3, 5, 7, 9])\n",
    "y = np.array([1, 3, 4, 3, 5])\n"
   ]
  },
  {
   "cell_type": "markdown",
   "id": "c3f3b7b6",
   "metadata": {},
   "source": [
    "### Equation of the line (Ordinary Least Squares)\n",
    "y = w0 + w1*x\n",
    "\n",
    "w0 = $\\bar{y}$ - w1*$\\bar{x}$\n",
    "\n",
    "w1 = $\\frac{\\sum_ (x - \\bar{x})(y - \\bar{y})}{\\sum_{}^{} (x - \\bar{x})^2}$\n"
   ]
  },
  {
   "cell_type": "code",
   "execution_count": 33,
   "id": "acbef8cd",
   "metadata": {},
   "outputs": [
    {
     "data": {
      "text/plain": [
       "0.4"
      ]
     },
     "execution_count": 33,
     "metadata": {},
     "output_type": "execute_result"
    }
   ],
   "source": [
    "xbar, ybar = np.mean(x), np.mean(y)\n",
    "\n",
    "w1 = np.sum((x-xbar)*(y-ybar))/np.sum((x-xbar)**2)\n",
    "w1"
   ]
  },
  {
   "cell_type": "code",
   "execution_count": 34,
   "id": "3afb92d8",
   "metadata": {},
   "outputs": [
    {
     "data": {
      "text/plain": [
       "1.2000000000000002"
      ]
     },
     "execution_count": 34,
     "metadata": {},
     "output_type": "execute_result"
    }
   ],
   "source": [
    "w0 = ybar - w1*xbar\n",
    "w0"
   ]
  },
  {
   "cell_type": "markdown",
   "id": "60ec3aa9",
   "metadata": {},
   "source": [
    "y = 1.20 + 0.4*x"
   ]
  }
 ],
 "metadata": {
  "kernelspec": {
   "display_name": "Python 3",
   "language": "python",
   "name": "python3"
  },
  "language_info": {
   "codemirror_mode": {
    "name": "ipython",
    "version": 3
   },
   "file_extension": ".py",
   "mimetype": "text/x-python",
   "name": "python",
   "nbconvert_exporter": "python",
   "pygments_lexer": "ipython3",
   "version": "3.8.8"
  }
 },
 "nbformat": 4,
 "nbformat_minor": 5
}
